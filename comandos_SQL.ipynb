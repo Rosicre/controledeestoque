{
 "cells": [
  {
   "cell_type": "code",
   "execution_count": 2,
   "metadata": {},
   "outputs": [
    {
     "ename": "OperationalError",
     "evalue": "('08001', '[08001] [Microsoft][ODBC SQL Server Driver][DBNETLIB]SQL Server inexistente ou acesso negado. (17) (SQLDriverConnect); [08001] [Microsoft][ODBC SQL Server Driver][DBNETLIB]ConnectionOpen (Connect()). (53)')",
     "output_type": "error",
     "traceback": [
      "\u001b[1;31m---------------------------------------------------------------------------\u001b[0m",
      "\u001b[1;31mOperationalError\u001b[0m                          Traceback (most recent call last)",
      "\u001b[1;32m~\\AppData\\Local\\Temp/ipykernel_10072/3773304047.py\u001b[0m in \u001b[0;36m<module>\u001b[1;34m\u001b[0m\n\u001b[0;32m      4\u001b[0m                  \u001b[1;34m\"Server=Seu_Servidor;\"\u001b[0m\u001b[1;33m\u001b[0m\u001b[1;33m\u001b[0m\u001b[0m\n\u001b[0;32m      5\u001b[0m                  \"Database=BancoDeDados\")\n\u001b[1;32m----> 6\u001b[1;33m \u001b[0mconexao\u001b[0m \u001b[1;33m=\u001b[0m \u001b[0mpyodbc\u001b[0m\u001b[1;33m.\u001b[0m\u001b[0mconnect\u001b[0m\u001b[1;33m(\u001b[0m\u001b[0mdados_conexao\u001b[0m\u001b[1;33m)\u001b[0m\u001b[1;33m\u001b[0m\u001b[1;33m\u001b[0m\u001b[0m\n\u001b[0m\u001b[0;32m      7\u001b[0m \u001b[0mcursor\u001b[0m \u001b[1;33m=\u001b[0m \u001b[0mconexao\u001b[0m\u001b[1;33m.\u001b[0m\u001b[0mcursor\u001b[0m\u001b[1;33m(\u001b[0m\u001b[1;33m)\u001b[0m\u001b[1;33m\u001b[0m\u001b[1;33m\u001b[0m\u001b[0m\n\u001b[0;32m      8\u001b[0m \u001b[1;33m\u001b[0m\u001b[0m\n",
      "\u001b[1;31mOperationalError\u001b[0m: ('08001', '[08001] [Microsoft][ODBC SQL Server Driver][DBNETLIB]SQL Server inexistente ou acesso negado. (17) (SQLDriverConnect); [08001] [Microsoft][ODBC SQL Server Driver][DBNETLIB]ConnectionOpen (Connect()). (53)')"
     ]
    }
   ],
   "source": [
    "import pyodbc\n",
    "\n",
    "dados_conexao = (\"Driver={SQL Server};\"\n",
    "                 \"Server=Seu_Servidor;\"\n",
    "                 \"Database=BancoDeDados\")\n",
    "conexao = pyodbc.connect(dados_conexao)\n",
    "cursor = conexao.cursor()\n",
    "\n",
    "valor_coluna1 = \"qualquer valor\"\n",
    "valor_coluna2 = \"outro valor\"\n",
    "valor_coluna3 = 1000\n",
    "valor_coluna4 = 1000\n",
    "\n",
    "# Adicionar\n",
    "comando = f\"\"\"INSERT INTO Tabela(coluna1, coluna2, coluna3, coluna4)\n",
    "    VALUES\n",
    "        ('{valor_coluna1}', '{valor_coluna2}', '{valor_coluna3}', '{valor_coluna4}')\"\"\"\n",
    "cursor.execute()\n",
    "cursor.commit()\n",
    "\n",
    "\n",
    "# Atualizar\n",
    "comando = comando = f\"\"\"UPDATE Tabela\n",
    "        SET coluna3 = coluna3 + {valor_coluna3}\n",
    "        WHERE coluna1 = '{valor_coluna1}';\n",
    "        \"\"\"\n",
    "cursor.execute()\n",
    "cursor.commit()\n",
    "\n",
    "\n",
    "# Deletar\n",
    "comando = f\"\"\"DELETE from Tabela\n",
    "            WHERE coluna1 = '{valor_coluna1}';\n",
    "            \"\"\"\n",
    "cursor.execute()\n",
    "cursor.commit()\n",
    "\n",
    "\n",
    "# Ler\n",
    "comando = f\"\"\"SELECT * from Tabela\n",
    "            WHERE coluna1 = '{valor_coluna1}';\n",
    "            \"\"\"\n",
    "cursor.execute()\n",
    "for row in cursor.fetchall():\n",
    "    texto = f\"Item: {row.coluna1}; Quantidade: {row.coluna2}; Lote:{row.coluna3}; Validade:{row.coluna4}\"\n",
    "    print(texto)\n"
   ]
  }
 ],
 "metadata": {
  "interpreter": {
   "hash": "c469c999aae2bf6d578d6881606ced546d1546d312a4811937df5b24665ee8bc"
  },
  "kernelspec": {
   "display_name": "Python 3.9.7 ('base')",
   "language": "python",
   "name": "python3"
  },
  "language_info": {
   "codemirror_mode": {
    "name": "ipython",
    "version": 3
   },
   "file_extension": ".py",
   "mimetype": "text/x-python",
   "name": "python",
   "nbconvert_exporter": "python",
   "pygments_lexer": "ipython3",
   "version": "3.9.7"
  },
  "orig_nbformat": 4
 },
 "nbformat": 4,
 "nbformat_minor": 2
}
